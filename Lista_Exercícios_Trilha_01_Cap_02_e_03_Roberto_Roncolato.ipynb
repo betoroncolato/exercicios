{
  "nbformat": 4,
  "nbformat_minor": 0,
  "metadata": {
    "colab": {
      "name": "Lista Exercícios Trilha 01  - Cap 02 e 03 - Roberto Roncolato",
      "provenance": [],
      "include_colab_link": true
    },
    "kernelspec": {
      "name": "python3",
      "display_name": "Python 3"
    },
    "language_info": {
      "name": "python"
    }
  },
  "cells": [
    {
      "cell_type": "markdown",
      "metadata": {
        "id": "view-in-github",
        "colab_type": "text"
      },
      "source": [
        "<a href=\"https://colab.research.google.com/github/betoroncolato/exercicios/blob/main/Lista_Exerc%C3%ADcios_Trilha_01_Cap_02_e_03_Roberto_Roncolato.ipynb\" target=\"_parent\"><img src=\"https://colab.research.google.com/assets/colab-badge.svg\" alt=\"Open In Colab\"/></a>"
      ]
    },
    {
      "cell_type": "code",
      "execution_count": null,
      "metadata": {
        "colab": {
          "base_uri": "https://localhost:8080/"
        },
        "id": "LnC2h6rOybGZ",
        "outputId": "4fe0e21d-8266-434f-a2ef-6c81056660bd"
      },
      "outputs": [
        {
          "output_type": "stream",
          "name": "stdout",
          "text": [
            "x = <class 'float'>\n",
            "y = <class 'int'>\n",
            "z = 18.0\n",
            "z = <class 'float'>\n"
          ]
        }
      ],
      "source": [
        "#EXERCICIOS CAPITULO 2 \n",
        "# Exercicio 1 (Trilha 1)\n",
        "x = 0.0\n",
        "y = 18\n",
        "z = x + y \n",
        "print('x =', type(x))\n",
        "print('y =', type(y))\n",
        "print('z =', z)\n",
        "print('z =', type(z))"
      ]
    },
    {
      "cell_type": "code",
      "source": [
        "## Exercicio 2 (Trilha 1)\n",
        "a = 10\n",
        "print(A)"
      ],
      "metadata": {
        "colab": {
          "base_uri": "https://localhost:8080/"
        },
        "id": "_GuKusLo2OMT",
        "outputId": "50908b57-f056-4862-a31f-19009455f563"
      },
      "execution_count": null,
      "outputs": [
        {
          "output_type": "stream",
          "name": "stdout",
          "text": [
            "Questão 3\n"
          ]
        }
      ]
    },
    {
      "cell_type": "code",
      "source": [
        "## Exercicio 3 (Trilha 1)\n",
        "A = \"Questão 3\"\n",
        "B = 25\n",
        "C= 3.9\n",
        "print(\"A = \", type (A))\n",
        "print (\"B = \", type (B))\n",
        "print (\"C = \", type (C))"
      ],
      "metadata": {
        "colab": {
          "base_uri": "https://localhost:8080/"
        },
        "id": "j_WB6usz2rgB",
        "outputId": "aa737ab5-38ed-4954-d6e3-043550cd384e"
      },
      "execution_count": null,
      "outputs": [
        {
          "output_type": "stream",
          "name": "stdout",
          "text": [
            "A =  <class 'str'>\n",
            "B =  <class 'int'>\n",
            "C =  <class 'float'>\n"
          ]
        }
      ]
    },
    {
      "cell_type": "code",
      "source": [
        "# Exercicio 4 (Trilha 1)\n",
        "a = 14\n",
        "b = 5\n",
        "c = a + b\n",
        "print(c)\n",
        "c = a - b\n",
        "print(c)\n",
        "c = a * b\n",
        "print(c)\n",
        "c = a / b\n",
        "print(c)\n",
        "c = a // b\n",
        "print(c)\n",
        "c = a % b\n",
        "print(c)\n",
        "c = -a\n",
        "print(c)\n",
        "c = a ** b\n",
        "print(c)                  "
      ],
      "metadata": {
        "colab": {
          "base_uri": "https://localhost:8080/"
        },
        "id": "9S_YS0XT68aX",
        "outputId": "555e175f-f0d4-4bbb-c6e6-9e769396407f"
      },
      "execution_count": null,
      "outputs": [
        {
          "output_type": "stream",
          "name": "stdout",
          "text": [
            "19\n",
            "9\n",
            "70\n",
            "2.8\n",
            "2\n",
            "4\n",
            "-14\n",
            "537824\n"
          ]
        }
      ]
    },
    {
      "cell_type": "code",
      "source": [
        "# Exercicio 5 (Trilha 1)\n",
        "base = 9\n",
        "altura = 6\n",
        "area = ((base * altura) / 2)\n",
        "print(area)"
      ],
      "metadata": {
        "colab": {
          "base_uri": "https://localhost:8080/"
        },
        "id": "LeeO0CLE_E2Z",
        "outputId": "7d67c69e-c885-43de-b51d-ab0dbb5fcb23"
      },
      "execution_count": null,
      "outputs": [
        {
          "output_type": "stream",
          "name": "stdout",
          "text": [
            "27.0\n"
          ]
        }
      ]
    },
    {
      "cell_type": "code",
      "source": [
        "# Exercicio 6 (Trilha 1)\n",
        "base = int(input('Olá, digite o valor para a base do triangulo' ,))\n",
        "altura = int(input(\"Agora, digite o valor da altura do triangulo\" ,))\n",
        "area = ((base * altura) / 2)\n",
        "print(\"A area do triangulo é\", area)"
      ],
      "metadata": {
        "colab": {
          "base_uri": "https://localhost:8080/"
        },
        "id": "utZykNnzAw5f",
        "outputId": "a70e63de-4e40-4ffd-9640-0d5634340c71"
      },
      "execution_count": null,
      "outputs": [
        {
          "output_type": "stream",
          "name": "stdout",
          "text": [
            "Olá, digite o valor para a base do triangulo10\n",
            "Agora, digite o valor da altura do triangulo15\n",
            "A area do triangulo é 75.0\n"
          ]
        }
      ]
    },
    {
      "cell_type": "code",
      "source": [
        "# Exercio 7 (Trilha 1)\n",
        "valorhora = 14.25\n",
        "horas = 163\n",
        "horaextra = 20\n",
        "salario = valorhora * horas\n",
        "print(\"O salário foi de \", salario)\n",
        "extra = (valorhora * 2) * horaextra\n",
        "print(\"O salário extra foi de\", extra)\n",
        "salariototal = salario + extra\n",
        "print(\"O total a receber é\", salariototal)\n"
      ],
      "metadata": {
        "colab": {
          "base_uri": "https://localhost:8080/"
        },
        "id": "uDg-XGkkC-JV",
        "outputId": "00d93f78-da2f-4f3a-984a-a9e1319edb04"
      },
      "execution_count": null,
      "outputs": [
        {
          "output_type": "stream",
          "name": "stdout",
          "text": [
            "O salário foi de  2322.75\n",
            "O salário extra foi de 570.0\n",
            "O total a receber é 2892.75\n"
          ]
        }
      ]
    },
    {
      "cell_type": "code",
      "source": [
        "# Exercicio 8 (Trilha 1)\n",
        "#8.a\n",
        "A = 4\n",
        "B = 5\n",
        "C = 1\n",
        "r = (A + B)/2\n",
        "print(\"Exercicio 8.a r=\",r)\n",
        "\n",
        "#8.b\n",
        "from math import sqrt\n",
        "r = sqrt(B ** 2 - 4 * A * C)    # calculo raiz quadrada\n",
        "x = (-B + r) / (2 * A)          # calculo -b + resultado raiz quadrada sobre 2 * a\n",
        "print(\"Exercicio 8.b x =\", x)\n",
        "\n",
        "#8.c\n",
        "r = (3 * A + 2 * 5) / (A + B)\n",
        "print(\"Exercicio 8.c r=\", r)\n",
        "\n",
        "#8.d\n",
        "z = 7.6 * A - (5 ** 1.7)\n",
        "print(\"Exercicio 8.d z= \", z)\n",
        "\n",
        "#8.e\n",
        "x1 = 1\n",
        "x2 = 4\n",
        "y1 = 1\n",
        "y2 = 5\n",
        "\n",
        "\n"
      ],
      "metadata": {
        "colab": {
          "base_uri": "https://localhost:8080/"
        },
        "id": "Aqk6nTQs3h5E",
        "outputId": "0f796f85-e82b-4eb5-ad26-d1d781b6dfc8"
      },
      "execution_count": null,
      "outputs": [
        {
          "output_type": "stream",
          "name": "stdout",
          "text": [
            "Exercicio 8.a r= 4.5\n",
            "Exercicio 8.b x = -0.25\n",
            "Exercicio 8.c r= 2.4444444444444446\n",
            "Exercicio 8.d z=  14.974153431999758\n"
          ]
        }
      ]
    },
    {
      "cell_type": "code",
      "source": [
        "#Exercicio 9 - Trilha 1\n"
      ],
      "metadata": {
        "id": "_c6B2Pav9pht"
      },
      "execution_count": null,
      "outputs": []
    },
    {
      "cell_type": "code",
      "source": [
        "#Exercicio 10 - Trilha 1 \n",
        "produto1 = input(\"Digite o nome do produto\")\n",
        "quantprod1 = int(input(\"Qual a quantidade vendida?\"))\n",
        "valorprod1 = float(input(\"Qual o valor unitário?\"))\n",
        "vendasprod1 = quantprod1 * valorprod1\n",
        "print(f\"O total de vendas do {produto1} foi de R$ {vendasprod1}\")\n",
        "print(\" \")\n",
        "produto2 = input(\"Digite o nome do produto\")\n",
        "quantprod2 = int(input(\"Qual a quantidade vendida?\"))\n",
        "valorprod2 = float(input(\"Qual o valor unitário?\"))\n",
        "vendasprod2 = quantprod2 * valorprod2\n",
        "print(f\"O total de vendas do {produto2} foi de R$ {vendasprod2}\")\n",
        "print(\" \")\n",
        "produto3 = input(\"Digite o nome do produto\")\n",
        "quantprod3 = int(input(\"Qual a quantidade vendida?\"))\n",
        "valorprod3 = float(input(\"Qual o valor unitário?\"))\n",
        "vendasprod3 = quantprod3 * valorprod3\n",
        "print(f\"O total de vendas do {produto3} foi de R$ {vendasprod3}\")\n",
        "print('')\n",
        "totaldevendas = vendasprod1 + vendasprod2 + vendasprod3\n",
        "print(f\"Venda total R$ {totaldevendas}\")"
      ],
      "metadata": {
        "colab": {
          "base_uri": "https://localhost:8080/"
        },
        "id": "Sq-S8SQV-GsO",
        "outputId": "d95fb356-c30d-4008-a928-44571d17f6e7"
      },
      "execution_count": null,
      "outputs": [
        {
          "output_type": "stream",
          "name": "stdout",
          "text": [
            "Digite o nome do produtoboneco\n",
            "Qual a quantidade vendida?18\n",
            "Qual o valor unitário?19.5\n",
            "O total de vendas do boneco foi de R$ 351.0\n",
            " \n",
            "Digite o nome do produtospiner\n",
            "Qual a quantidade vendida?8\n",
            "Qual o valor unitário?16\n",
            "O total de vendas do spiner foi de R$ 128.0\n",
            " \n",
            "Digite o nome do produtocarrinho\n",
            "Qual a quantidade vendida?2\n",
            "Qual o valor unitário?45\n",
            "O total de vendas do carrinho foi de R$ 90.0\n",
            "\n",
            "Venda total R$ 569.0\n"
          ]
        }
      ]
    },
    {
      "cell_type": "code",
      "source": [
        "#EXERCICIOS CAPITULO 3\n",
        "#Exercicio 1\n",
        "\n",
        "a = 0\n",
        "b = 3 \n",
        "a1 = a > b\n",
        "print(a1)\n",
        "\n",
        "x = 3.7\n",
        "a2 = x <= 10\n",
        "print(a2)\n",
        "\n",
        "a = 9\n",
        "b = 16\n",
        "a3 = a - b >= 0\n",
        "print(a3)\n",
        "\n",
        "a = 2\n",
        "b = 4\n",
        "n = 10\n",
        "a4 = a * b < n\n",
        "print(a4)\n",
        "\n",
        "a = 3\n",
        "b = 9\n",
        "c = 5\n",
        "a5 = 10 * a >= b * c\n",
        "print(a5)\n",
        "\n",
        "a = 3\n",
        "b = 6\n",
        "c = 5\n",
        "a6 = 10 * a >= b * c\n",
        "print(a6)\n",
        "\n",
        "n = 7\n",
        "a7 = n % 2 == 0 \n",
        "print(a7)\n",
        "\n",
        "n = 8\n",
        "a8 = n % 2 == 0\n",
        "print(a8)\n",
        "\n",
        "t = \"morango\"\n",
        "a9 = t == \"banana\"\n",
        "print(a9)\n",
        "\n",
        "t = \"morango\"\n",
        "a10 = t == \"banana\"\n",
        "print(a10)"
      ],
      "metadata": {
        "colab": {
          "base_uri": "https://localhost:8080/"
        },
        "id": "wloZKpulERj8",
        "outputId": "c7a82677-10b2-41d1-f718-9fb0a9bf5d6e"
      },
      "execution_count": null,
      "outputs": [
        {
          "output_type": "stream",
          "name": "stdout",
          "text": [
            "False\n",
            "True\n",
            "False\n",
            "True\n",
            "False\n",
            "True\n",
            "False\n",
            "True\n",
            "False\n",
            "False\n"
          ]
        }
      ]
    },
    {
      "cell_type": "code",
      "source": [
        "#Exercicio 2\n",
        "a = 10\n",
        "b = 15\n",
        "c = 4\n",
        "a1 = a < b and a < c\n",
        "a2 = a < b or a < c\n",
        "print(a1)\n",
        "print(a2)\n",
        "\n",
        "a = 1\n",
        "b = 9\n",
        "c = 0\n",
        "a3 = a >= 0 and b == c\n",
        "print(a3)\n",
        "\n",
        "a = 1\n",
        "b = 9\n",
        "c = 9\n",
        "a4 = a >= 0 and b == c\n",
        "print(a4)\n",
        "\n",
        "a = 1\n",
        "b = 9\n",
        "c = 0\n",
        "a5 = a >= 0 or b == c\n",
        "print(a5)\n",
        "\n",
        "a = 1\n",
        "b = 9\n",
        "c = 9\n",
        "a6 = a >= 0 or b == c\n",
        "print(a6)\n",
        "\n",
        "a = 0\n",
        "b = 0\n",
        "c = 0\n",
        "a7 = b != 0 and a != c\n",
        "print(a7)\n",
        "\n",
        "a = 0\n",
        "b = 0\n",
        "c = 25\n",
        "a8 = b != 0 and a != c\n",
        "print(a8)\n",
        "\n",
        "a = 0\n",
        "b = 0\n",
        "c = 0\n",
        "a9 = b != 0 or a != c\n",
        "print(a9)\n",
        "\n",
        "a = 0\n",
        "b = 0\n",
        "c = 25\n",
        "a10 = b != 0 or a != c\n",
        "print(a10)"
      ],
      "metadata": {
        "colab": {
          "base_uri": "https://localhost:8080/"
        },
        "id": "9CQKLqSPSDzo",
        "outputId": "25df7188-3b3e-44f1-f119-697c839b0dbc"
      },
      "execution_count": null,
      "outputs": [
        {
          "output_type": "stream",
          "name": "stdout",
          "text": [
            "False\n",
            "True\n",
            "False\n",
            "True\n",
            "True\n",
            "True\n",
            "False\n",
            "False\n",
            "False\n",
            "True\n"
          ]
        }
      ]
    },
    {
      "cell_type": "code",
      "source": [
        "#Exercicio 3\n",
        "a = 10\n",
        "b = 15\n",
        "c = 4\n",
        "a1 = a < b and a < c or c != 0\n",
        "a2 = a < b and [a < c or c != 0]\n",
        "print(a1)\n",
        "print(a2)\n",
        "\n",
        "a = 1\n",
        "b = 9\n",
        "c = 0\n",
        "a3 = not [a >= 0 and b == c]\n",
        "print(a3)\n",
        "\n",
        "a = 1\n",
        "b = 9\n",
        "c = 9\n",
        "a4 = not [a >= 0] and not [b == c]\n",
        "print(a4)\n",
        "\n",
        "a = 1\n",
        "b = 9\n",
        "c = 0\n",
        "a5 = [a >= 0 or b == c] and b > a\n",
        "print(a5)\n",
        "\n",
        "a = -2\n",
        "b = 0\n",
        "c = 2\n",
        "a6 = not [a <= b] or c > b\n",
        "print(a6)\n",
        "\n",
        "a = -2\n",
        "b = 0\n",
        "c = 2\n",
        "a7 = not [a <= 0 or c > b]\n",
        "print(a7)\n",
        "\n",
        "a = 0\n",
        "b = 1\n",
        "c = 0\n",
        "a8 = a == 0 and b != 0 and c == 0\n",
        "print(a8)\n",
        "\n",
        "a = 5\n",
        "b = 0\n",
        "c = 0\n",
        "a9 = a == 0 and b != 0 and c == 0\n",
        "print(a9)\n",
        "\n",
        "a = 5\n",
        "b = 0\n",
        "c = 0\n",
        "a10 = a == 0 or b != 0 or c == 0\n",
        "print(a10)"
      ],
      "metadata": {
        "colab": {
          "base_uri": "https://localhost:8080/"
        },
        "id": "-HlIQ7KNgVGZ",
        "outputId": "2749a8ef-2fa4-4027-9f09-61b9cbe09ab7"
      },
      "execution_count": null,
      "outputs": [
        {
          "output_type": "stream",
          "name": "stdout",
          "text": [
            "True\n",
            "[True]\n",
            "False\n",
            "False\n",
            "True\n",
            "True\n",
            "False\n",
            "True\n",
            "False\n",
            "True\n"
          ]
        }
      ]
    },
    {
      "cell_type": "code",
      "source": [
        "#Exercicio4\n",
        "n = int(input(\"Olá, digite um número:\"))\n",
        "if n > 0:\n",
        "    print(n, \"Número Positivo!\")\n",
        "if n < 0: \n",
        "    print(n, \"Número Negativo!\")"
      ],
      "metadata": {
        "colab": {
          "base_uri": "https://localhost:8080/"
        },
        "id": "pmap1O2fnGus",
        "outputId": "8f3d1b3c-1e9c-41ff-d7cc-663cfa71d41e"
      },
      "execution_count": null,
      "outputs": [
        {
          "output_type": "stream",
          "name": "stdout",
          "text": [
            "Olá, digite um número:2\n",
            "2 Número Positivo!\n"
          ]
        }
      ]
    },
    {
      "cell_type": "code",
      "source": [
        "#Exercicio5\n",
        "n = int(input(\"Olá, digite um número:\"))\n",
        "if n % 2 == 0:     #resto da divisão for igual a zero\n",
        "    print(n, \"Número par\")\n",
        "else:\n",
        "    print(n, \"Número ímpar\")"
      ],
      "metadata": {
        "colab": {
          "base_uri": "https://localhost:8080/"
        },
        "id": "ieb2cfxJoEGd",
        "outputId": "5f161bca-f7a5-43d3-90d5-c49ba1196b6d"
      },
      "execution_count": null,
      "outputs": [
        {
          "output_type": "stream",
          "name": "stdout",
          "text": [
            "Olá, digite um número:39\n",
            "39 Número ímpar\n"
          ]
        }
      ]
    },
    {
      "cell_type": "code",
      "source": [
        "n1 = int(input(\"Digite um número:\"))\n",
        "n2 = int(input(\"Digite outro número:\"))\n",
        "if n1 > n2:\n",
        "    print(n1, \"O primeiro número é maior\")\n",
        "else: \n",
        "    print(n1, 'O primeiro número é menor')\n",
        "if n2 > n1:\n",
        "    print(n2, 'O segundo número é maior')\n",
        "else: \n",
        "    print(n2, 'O segundo número é menor')\n"
      ],
      "metadata": {
        "colab": {
          "base_uri": "https://localhost:8080/"
        },
        "id": "zq0-l8KIolDL",
        "outputId": "87712c5d-a711-4fc4-fb4d-1839cb8f8c00"
      },
      "execution_count": null,
      "outputs": [
        {
          "output_type": "stream",
          "name": "stdout",
          "text": [
            "Digite um número:33\n",
            "Digite outro número:2\n",
            "33 O primeiro número é maior\n",
            "2 O segundo número é menor\n"
          ]
        }
      ]
    },
    {
      "cell_type": "code",
      "source": [
        "#Exercicio 7\n",
        "a = float(input(\"Primeiro lado:\"))\n",
        "b = float(input(\"Segundo lado:\"))\n",
        "c = float(input(\"Terceiro lado:\"))\n",
        "\n",
        "if (a + b < c) or (a + c < b) or (b + c < a):\n",
        "    print(\"Nao é um Triangulo\")\n",
        "elif (a == b) and (a == c) :\n",
        "    print(\"Triangulo Equilatero\")\n",
        "elif (a==b) or (a==c) or (b==c):\n",
        "    print(\"Triangulo Isósceles\")\n",
        "else:\n",
        "    print(\"Triangulo Escaleno\")"
      ],
      "metadata": {
        "colab": {
          "base_uri": "https://localhost:8080/"
        },
        "id": "9k92BjTvpFKX",
        "outputId": "cb25875e-1c1e-4852-e964-ce82b5380d29"
      },
      "execution_count": null,
      "outputs": [
        {
          "output_type": "stream",
          "name": "stdout",
          "text": [
            "Primeiro lado:44\n",
            "Segundo lado:3\n",
            "Terceiro lado:2\n",
            "Nao é um Triangulo\n"
          ]
        }
      ]
    },
    {
      "cell_type": "code",
      "source": [
        "#Exercicio 8\n",
        "\n",
        "nome = input(\"Nome fornecido:\")\n",
        "peso = float(input(\"Peso fornecido:\"))\n",
        "if peso < 65:\n",
        "    print(f\"O lutador {nome} pesa {peso} kg e se enquadra na categoria Pena\")\n",
        "elif peso >= 65 and peso < 72:\n",
        "    print(f\"O lutador {nome} pesa {peso} kg e se enquadra na categoria Leve\")\n",
        "elif peso >= 72 and peso < 79:\n",
        "    print(f\"O lutador {nome} pesa {peso} kg e se enquadra na categoria Ligeiro\")\n",
        "elif peso >= 79 and peso < 86:\n",
        "    print(f\"O lutador {nome} pesa {peso} kg e se enquadra na categoria Meio-médio\")\n",
        "elif peso >= 86 and peso < 93:\n",
        "    print(f\"O lutador {nome} pesa {peso} kg e se enquadra na categoria Médio\")\n",
        "elif peso >= 93 and peso < 100:\n",
        "    print(f\"O lutador {nome} pesa {peso} kg e se enquadra na categoria Meio-pesado\")\n",
        "elif peso >= 100:\n",
        "    print(f\"O lutador(a) {nome} pesa {peso} kg e se enquadra na categoria Pesado\")"
      ],
      "metadata": {
        "colab": {
          "base_uri": "https://localhost:8080/"
        },
        "id": "8ctBFds9qGeP",
        "outputId": "c444e4cb-96c9-4665-d07f-603fc77515a9"
      },
      "execution_count": null,
      "outputs": [
        {
          "output_type": "stream",
          "name": "stdout",
          "text": [
            "Nome fornecido:Pepe Jordão\n",
            "Peso fornecido:73.4\n",
            "O lutador Pepe Jordão pesa 73.4 kg e se enquadra na categoria Ligeiro\n"
          ]
        }
      ]
    },
    {
      "cell_type": "code",
      "source": [
        "#Exercicio9\n",
        "valorhora = float(input(\"Qual o valor da hora de trabalho?\"))\n",
        "horanormal = float(input(\"Quantas horas foram trabalhadas?\"))\n",
        "horaextra = float(input(\"Qual o total de horas extras?\" ))\n",
        "valorhoranormal = valorhora * horanormal\n",
        "valorhoraextra = horaextra * (valorhora * 2)\n",
        "print(\"Valor das horas trabalhadas:\", valorhoranormal)\n",
        "print(\"Valor das horas extras:\", valorhoraextra)\n",
        "print(\"O Valor total a ser recebido nesse mês é de R$\", valorhoranormal + valorhoraextra)\n"
      ],
      "metadata": {
        "id": "7sOP-1t5qrZs",
        "colab": {
          "base_uri": "https://localhost:8080/"
        },
        "outputId": "98b8617f-a023-428b-c3c4-9b065e299e5e"
      },
      "execution_count": null,
      "outputs": [
        {
          "output_type": "stream",
          "name": "stdout",
          "text": [
            "Qual o valor da hora de trabalho?10.90\n",
            "Quantas horas foram trabalhadas?25\n",
            "Qual o total de horas extras?10\n",
            "Valor das horas trabalhadas: 272.5\n",
            "Valor das horas extras: 218.0\n",
            "O Valor total a ser recebido nesse mês é de R$ 490.5\n"
          ]
        }
      ]
    },
    {
      "cell_type": "code",
      "source": [
        "#Exercicio 10\n",
        "x = 1\n",
        "while x <= 10:\n",
        "    print(x)\n",
        "    x = x + 1"
      ],
      "metadata": {
        "colab": {
          "base_uri": "https://localhost:8080/"
        },
        "id": "WZ-bLK758h_B",
        "outputId": "909fb323-43da-4ac0-bc41-6d00c7f6ea67"
      },
      "execution_count": null,
      "outputs": [
        {
          "output_type": "stream",
          "name": "stdout",
          "text": [
            "1\n",
            "2\n",
            "3\n",
            "4\n",
            "5\n",
            "6\n",
            "7\n",
            "8\n",
            "9\n",
            "10\n"
          ]
        }
      ]
    }
  ]
}